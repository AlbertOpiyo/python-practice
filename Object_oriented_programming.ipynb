{
  "nbformat": 4,
  "nbformat_minor": 0,
  "metadata": {
    "colab": {
      "provenance": []
    },
    "kernelspec": {
      "name": "python3",
      "display_name": "Python 3"
    },
    "language_info": {
      "name": "python"
    }
  },
  "cells": [
    {
      "cell_type": "markdown",
      "source": [
        "Write a Python class Employee with attributes like emp_id, emp_name, emp_salary, and emp_department and methods like calculate_emp_salary, emp_assign_department, and print_employee_details.\n",
        "Sample Employee Data:\n",
        "\"ADAMS\", \"E7876\", 50000, \"ACCOUNTING\"\n",
        "\"JONES\", \"E7499\", 45000, \"RESEARCH\"\n",
        "\"MARTIN\", \"E7900\", 50000, \"SALES\"\n",
        "\"SMITH\", \"E7698\", 55000, \"OPERATIONS\"\n",
        "Use 'assign_department' method to change the department of an employee.\n",
        "Use 'print_employee_details' method to print the details of an employee.\n",
        "Use 'calculate_emp_salary' method takes two arguments: salary and hours_worked, which is the number of hours worked by the employee. If the number of hours worked is more than 50, the method computes overtime and adds it to the salary. Overtime is calculated as following formula:\n",
        "overtime = hours_worked - 50\n",
        "Overtime amount = (overtime * (salary / 50))"
      ],
      "metadata": {
        "id": "_o9FGioL0PQa"
      }
    },
    {
      "cell_type": "code",
      "source": [
        "class Employee:\n",
        "    def __init__(self, name, emp_id, salary, department):\n",
        "        self.name = name\n",
        "        self.id = emp_id\n",
        "        self.salary = salary\n",
        "        self.department = department\n",
        "\n",
        "    def calculate_salary(self, salary, hours_worked):\n",
        "        overtime = 0\n",
        "        if hours_worked > 50:\n",
        "            overtime = hours_worked - 50\n",
        "        self.salary = self.salary + (overtime * (self.salary / 50))\n",
        "\n",
        "    def assign_department(self, emp_department):\n",
        "        self.department = emp_department\n",
        "\n",
        "    def print_employee_details(self):\n",
        "        print(\"\\nName: \", self.name)\n",
        "        print(\"ID: \", self.id)\n",
        "        print(\"Salary: \", self.salary)\n",
        "        print(\"Department: \", self.department)\n",
        "        print(\"----------------------\")\n",
        "\n",
        "\n",
        "employee1 = Employee(\"ADAMS\", \"E7876\", 50000, \"ACCOUNTING\")\n",
        "employee2 = Employee(\"JONES\", \"E7499\", 45000, \"RESEARCH\")\n",
        "employee3 = Employee(\"MARTIN\", \"E7900\", 50000, \"SALES\")\n",
        "employee4 = Employee(\"SMITH\", \"E7698\", 55000, \"OPERATIONS\")\n",
        "\n",
        "print(\"Original Employee Details:\")\n",
        "employee1.print_employee_details()\n",
        "employee2.print_employee_details()\n",
        "employee3.print_employee_details()\n",
        "employee4.print_employee_details()\n",
        "\n",
        "# Change the departments of employee1 and employee4\n",
        "employee1.assign_department(\"OPERATIONS\")\n",
        "employee4.assign_department(\"SALES\")\n",
        "\n",
        "# Now calculate the overtime of the employees who are eligible:\n",
        "employee2.calculate_salary(45000, 52)\n",
        "employee4.calculate_salary(45000, 60)\n",
        "\n",
        "print(\"Updated Employee Details:\")\n",
        "employee1.print_employee_details()\n",
        "employee2.print_employee_details()\n",
        "employee3.print_employee_details()\n",
        "employee4.print_employee_details()\n"
      ],
      "metadata": {
        "colab": {
          "base_uri": "https://localhost:8080/"
        },
        "id": "JrL4oZCzz2Aw",
        "outputId": "6f510829-7d3a-4613-bd30-881a79cf739b"
      },
      "execution_count": 13,
      "outputs": [
        {
          "output_type": "stream",
          "name": "stdout",
          "text": [
            "Original Employee Details:\n",
            "\n",
            "Name:  ADAMS\n",
            "ID:  E7876\n",
            "Salary:  50000\n",
            "Department:  ACCOUNTING\n",
            "----------------------\n",
            "\n",
            "Name:  JONES\n",
            "ID:  E7499\n",
            "Salary:  45000\n",
            "Department:  RESEARCH\n",
            "----------------------\n",
            "\n",
            "Name:  MARTIN\n",
            "ID:  E7900\n",
            "Salary:  50000\n",
            "Department:  SALES\n",
            "----------------------\n",
            "\n",
            "Name:  SMITH\n",
            "ID:  E7698\n",
            "Salary:  55000\n",
            "Department:  OPERATIONS\n",
            "----------------------\n",
            "Updated Employee Details:\n",
            "\n",
            "Name:  ADAMS\n",
            "ID:  E7876\n",
            "Salary:  50000\n",
            "Department:  OPERATIONS\n",
            "----------------------\n",
            "\n",
            "Name:  JONES\n",
            "ID:  E7499\n",
            "Salary:  46800.0\n",
            "Department:  RESEARCH\n",
            "----------------------\n",
            "\n",
            "Name:  MARTIN\n",
            "ID:  E7900\n",
            "Salary:  50000\n",
            "Department:  SALES\n",
            "----------------------\n",
            "\n",
            "Name:  SMITH\n",
            "ID:  E7698\n",
            "Salary:  66000.0\n",
            "Department:  SALES\n",
            "----------------------\n"
          ]
        }
      ]
    },
    {
      "cell_type": "markdown",
      "source": [
        "Write a Python class Restaurant with attributes like menu_items, book_table, and customer_orders, and methods like add_item_to_menu, book_tables, and customer_order.\n",
        "Perform the following tasks now:\n",
        "Now add items to the menu.\n",
        "Make table reservations.\n",
        "Take customer orders.\n",
        "Print the menu.\n",
        "Print table reservations.\n",
        "Print customer orders.\n",
        "Note: Use dictionaries and lists to store the data."
      ],
      "metadata": {
        "id": "XjBKFUKK0Rjw"
      }
    },
    {
      "cell_type": "code",
      "source": [
        "class Restaurant:\n",
        "    def __init__(self):\n",
        "        self.menu_items = {}\n",
        "        self.book_table = []\n",
        "        self.customer_orders = []\n",
        "\n",
        "    def add_item_to_menu(self, item, price):\n",
        "        self.menu_items[item] = price\n",
        "\n",
        "    def book_tables(self, table_number):\n",
        "        self.book_table.append(table_number)\n",
        "\n",
        "    def customer_order(self, table_number, order):\n",
        "        order_details = {'table_number': table_number, 'order': order}\n",
        "        self.customer_orders.append(order_details)\n",
        "\n",
        "    def print_menu_items(self):\n",
        "        for item, price in self.menu_items.items():\n",
        "            print(\"{}: {}\".format(item, price))\n",
        "\n",
        "    def print_table_reservations(self):\n",
        "        for table in self.book_table:\n",
        "            print(\"Table {}\".format(table))\n",
        "\n",
        "    def print_customer_orders(self):\n",
        "        for order in self.customer_orders:\n",
        "            print(\"Table {}: {}\".format(order['table_number'], order['order']))\n",
        "\n",
        "restaurant = Restaurant()\n",
        "\n",
        "# Add items\n",
        "restaurant.add_item_to_menu(\"Cheeseburger\", 9.99)\n",
        "restaurant.add_item_to_menu(\"Caesar Salad\", 8)\n",
        "restaurant.add_item_to_menu(\"Grilled Salmon\", 19.99)\n",
        "restaurant.add_item_to_menu(\"French Fries\", 3.99)\n",
        "restaurant.add_item_to_menu(\"Fish & Chips:\", 15)\n",
        "# Book table\n",
        "restaurant.book_tables(1)\n",
        "restaurant.book_tables(2)\n",
        "restaurant.book_tables(3)\n",
        "# Order items\n",
        "restaurant.customer_order(1, \"Cheeseburger\")\n",
        "restaurant.customer_order(1, \"Grilled Salmon\")\n",
        "restaurant.customer_order(2, \"Fish & Chips\")\n",
        "restaurant.customer_order(2, \"Grilled Salmon\")\n",
        "\n",
        "print(\"\\nPopular dishes in the restaurant along with their prices:\")\n",
        "restaurant.print_menu_items()\n",
        "print(\"\\nTable reserved in the Restaurant:\")\n",
        "restaurant.print_table_reservations()\n",
        "print(\"\\nPrint customer orders:\")\n",
        "restaurant.print_customer_orders()\n"
      ],
      "metadata": {
        "colab": {
          "base_uri": "https://localhost:8080/"
        },
        "id": "mgkER8d50XAB",
        "outputId": "62a19c44-ab26-4fa2-c19a-e1e83768d43e"
      },
      "execution_count": 14,
      "outputs": [
        {
          "output_type": "stream",
          "name": "stdout",
          "text": [
            "\n",
            "Popular dishes in the restaurant along with their prices:\n",
            "Cheeseburger: 9.99\n",
            "Caesar Salad: 8\n",
            "Grilled Salmon: 19.99\n",
            "French Fries: 3.99\n",
            "Fish & Chips:: 15\n",
            "\n",
            "Table reserved in the Restaurant:\n",
            "Table 1\n",
            "Table 2\n",
            "Table 3\n",
            "\n",
            "Print customer orders:\n",
            "Table 1: Cheeseburger\n",
            "Table 1: Grilled Salmon\n",
            "Table 2: Fish & Chips\n",
            "Table 2: Grilled Salmon\n"
          ]
        }
      ]
    },
    {
      "cell_type": "markdown",
      "source": [
        "Write a Python class BankAccount with attributes like account_number, balance, date_of_opening and customer_name, and methods like deposit, withdraw, and check_balance"
      ],
      "metadata": {
        "id": "rcKnpdn51Gz7"
      }
    },
    {
      "cell_type": "code",
      "source": [
        "class BankAccount:\n",
        "    def __init__(self, account_number, date_of_opening, balance, customer_name):\n",
        "        self.account_number = account_number\n",
        "        self.date_of_opening  = date_of_opening\n",
        "        self.balance = balance\n",
        "        self.customer_name = customer_name\n",
        "\n",
        "    def deposit(self, amount):\n",
        "        self.balance += amount\n",
        "        print(f\"${amount} has been deposited in your account.\")\n",
        "\n",
        "    def withdraw(self, amount):\n",
        "        if amount > self.balance:\n",
        "            print(\"Insufficient balance.\")\n",
        "        else:\n",
        "            self.balance -= amount\n",
        "            print(f\"${amount} has been withdrawn from your account.\")\n",
        "\n",
        "    def check_balance(self):\n",
        "        print(f\"Current balance is ${self.balance}.\")\n",
        "\n",
        "    def print_customer_details(self):\n",
        "        print(\"Name:\", self.customer_name)\n",
        "        print(\"Account Number:\", self.account_number)\n",
        "        print(\"Date of opening:\", self.date_of_opening)\n",
        "        print(f\"Balance: ${self.balance}\\n\")\n",
        "\n",
        "# Input customer details\n",
        "ac_no_1 = BankAccount(2345, \"01-01-2011\", 1000, \"Toninho Takeo\")\n",
        "ac_no_2 = BankAccount(1234, \"11-03-2011\", 2000, \"Astrid Rugile\")\n",
        "ac_no_3 = BankAccount(2312, \"12-01-2009\", 3000, \"Orli Kerenza\")\n",
        "ac_no_4 = BankAccount(1395, \"01-01-2011\", 3000, \"Luciana Chika\")\n",
        "ac_no_5 = BankAccount(6345, \"01-05-2011\", 4000, \"Toninho Takeo\")\n",
        "\n",
        "print(\"Customer Details:\")\n",
        "ac_no_1.print_customer_details()\n",
        "ac_no_2.print_customer_details()\n",
        "ac_no_3.print_customer_details()\n",
        "ac_no_4.print_customer_details()\n",
        "ac_no_5.print_customer_details()\n",
        "\n",
        "print(\"=============================\")\n",
        "ac_no_4.print_customer_details()\n",
        "# Current balance is $3000.\n",
        "# $1000 has been deposited in your account.\n",
        "ac_no_4.deposit(1000)\n",
        "ac_no_4.check_balance()\n",
        "# Your current balance $4000.\n",
        "# You want to withdraw $5000\n",
        "ac_no_4.withdraw(5000)\n",
        "# Output:\n",
        "# Insufficient balance.\n",
        "#The customer withdraw $3400.\n",
        "ac_no_4.withdraw(3400)\n",
        "ac_no_4.check_balance()\n"
      ],
      "metadata": {
        "colab": {
          "base_uri": "https://localhost:8080/"
        },
        "id": "v8eF04Ao1Fdh",
        "outputId": "84d28862-ce41-44e9-f070-615fff5e2cc5"
      },
      "execution_count": 15,
      "outputs": [
        {
          "output_type": "stream",
          "name": "stdout",
          "text": [
            "Customer Details:\n",
            "Name: Toninho Takeo\n",
            "Account Number: 2345\n",
            "Date of opening: 01-01-2011\n",
            "Balance: $1000\n",
            "\n",
            "Name: Astrid Rugile\n",
            "Account Number: 1234\n",
            "Date of opening: 11-03-2011\n",
            "Balance: $2000\n",
            "\n",
            "Name: Orli Kerenza\n",
            "Account Number: 2312\n",
            "Date of opening: 12-01-2009\n",
            "Balance: $3000\n",
            "\n",
            "Name: Luciana Chika\n",
            "Account Number: 1395\n",
            "Date of opening: 01-01-2011\n",
            "Balance: $3000\n",
            "\n",
            "Name: Toninho Takeo\n",
            "Account Number: 6345\n",
            "Date of opening: 01-05-2011\n",
            "Balance: $4000\n",
            "\n",
            "=============================\n",
            "Name: Luciana Chika\n",
            "Account Number: 1395\n",
            "Date of opening: 01-01-2011\n",
            "Balance: $3000\n",
            "\n",
            "$1000 has been deposited in your account.\n",
            "Current balance is $4000.\n",
            "Insufficient balance.\n",
            "$3400 has been withdrawn from your account.\n",
            "Current balance is $600.\n"
          ]
        }
      ]
    },
    {
      "cell_type": "markdown",
      "source": [
        "Write a Python class Inventory with attributes like item_id, item_name, stock_count, and price, and methods like add_item, update_item, and check_item_details.\n",
        "Use a dictionary to store the item details, where the key is the item_id and the value is a dictionary containing the item_name, stock_count, and price"
      ],
      "metadata": {
        "id": "C0zInHew1cv5"
      }
    },
    {
      "cell_type": "code",
      "source": [
        "class Inventory:\n",
        "    def __init__(self):\n",
        "        self.inventory = {}\n",
        "    def add_item(self, item_id, item_name, stock_count, price):\n",
        "        self.inventory[item_id] = {\"item_name\": item_name, \"stock_count\": stock_count, \"price\": price}\n",
        "\n",
        "    def update_item(self, item_id, stock_count, price):\n",
        "        if item_id in self.inventory:\n",
        "            self.inventory[item_id][\"stock_count\"] = stock_count\n",
        "            self.inventory[item_id][\"price\"] = price\n",
        "        else:\n",
        "            print(\"Item not found in inventory.\")\n",
        "\n",
        "    def check_item_details(self, item_id):\n",
        "        if item_id in self.inventory:\n",
        "            item = self.inventory[item_id]\n",
        "            return f\"Product Name: {item['item_name']}, Stock Count: {item['stock_count']}, Price: {item['price']}\"\n",
        "        else:\n",
        "            return \"Item not found in inventory.\"\n",
        "\n",
        "inventory = Inventory()\n",
        "\n",
        "inventory.add_item(\"I001\", \"Laptop\", 100, 500.00)\n",
        "inventory.add_item(\"I002\", \"Mobile\", 110, 450.00)\n",
        "inventory.add_item(\"I003\", \"Desktop\", 120, 500.00)\n",
        "inventory.add_item(\"I004\", \"Tablet\", 90, 550.00)\n",
        "print(\"Item Details:\")\n",
        "print(inventory.check_item_details(\"I001\"))\n",
        "print(inventory.check_item_details(\"I002\"))\n",
        "print(inventory.check_item_details(\"I003\"))\n",
        "print(inventory.check_item_details(\"I004\"))\n",
        "print(\"\\nUpdate the price of item code - 'I001':\")\n",
        "inventory.update_item(\"I001\", 100, 505.00)\n",
        "print(inventory.check_item_details(\"I001\"))\n",
        "print(\"\\nUpdate the stock of item code - 'I003':\")\n",
        "inventory.update_item(\"I003\", 115, 500.00)\n",
        "print(inventory.check_item_details(\"I003\"))\n"
      ],
      "metadata": {
        "colab": {
          "base_uri": "https://localhost:8080/"
        },
        "id": "3C_pZxFS1cZd",
        "outputId": "9890040b-772f-47cc-86f7-06166937812c"
      },
      "execution_count": 16,
      "outputs": [
        {
          "output_type": "stream",
          "name": "stdout",
          "text": [
            "Item Details:\n",
            "Product Name: Laptop, Stock Count: 100, Price: 500.0\n",
            "Product Name: Mobile, Stock Count: 110, Price: 450.0\n",
            "Product Name: Desktop, Stock Count: 120, Price: 500.0\n",
            "Product Name: Tablet, Stock Count: 90, Price: 550.0\n",
            "\n",
            "Update the price of item code - 'I001':\n",
            "Product Name: Laptop, Stock Count: 100, Price: 505.0\n",
            "\n",
            "Update the stock of item code - 'I003':\n",
            "Product Name: Desktop, Stock Count: 115, Price: 500.0\n"
          ]
        }
      ]
    },
    {
      "cell_type": "markdown",
      "source": [
        " A bank app example"
      ],
      "metadata": {
        "id": "gZj0Spm51zXq"
      }
    },
    {
      "cell_type": "code",
      "source": [
        "#Parent class\n",
        "\n",
        "class User():\n",
        "  def __init__(self,name,gender,age):\n",
        "    self.name=name\n",
        "    self.gender=gender\n",
        "    self.age=age\n",
        "\n",
        "  def show_details(self):\n",
        "    print(\"This are the user's details: \")\n",
        "    print(\"\")\n",
        "    print(\"Name \", self.name)\n",
        "    print(\"Gender \", self.gender)\n",
        "    print(\"Age \", self.age)\n",
        "\n",
        "\n",
        "# Child class\n",
        "class Bank(User):\n",
        "  def __init__(self,name,gender,age):\n",
        "    super().__init__(name,gender,age)\n",
        "    self.balance=0\n",
        "\n",
        "  def deposit(self,amount):\n",
        "    self.amount=amount\n",
        "    self.balance=self.balance + self.amount\n",
        "    print(\"The amount currently in your account is: $\" , self.balance)\n",
        "\n",
        "  def withdrawal(self,amount):\n",
        "    self.amount=amount\n",
        "    if self.amount > self.balance:\n",
        "      print(\"Insufficient funds in your account, your balance is : $\", self.balance)\n",
        "    else:\n",
        "      self.balance=self.balance - self.amount\n",
        "      print(\"Your balance is : $\", self.balance)\n",
        "\n",
        "  def view_balance(self):\n",
        "    self.show_details()\n",
        "    print(\"Your balance is : $\", self.balance)\n",
        "\n",
        "\n",
        "\n",
        "\n",
        "details2=Bank(\"Victor\",\"Male\",21)\n",
        "details2.name\n",
        "\n",
        "print(details2.deposit(100))\n",
        "print(details2.deposit(500))\n",
        "print(details2.withdrawal(400))\n",
        "print(details2.view_balance())\n",
        "\n",
        "\n",
        "# details=User(\"Albert\",\"Male\",26)\n",
        "# details.show_details()\n"
      ],
      "metadata": {
        "colab": {
          "base_uri": "https://localhost:8080/"
        },
        "id": "C-ALprIr1y42",
        "outputId": "05a1a5f6-0e18-4eb2-fa14-763a6d96e351"
      },
      "execution_count": 17,
      "outputs": [
        {
          "output_type": "stream",
          "name": "stdout",
          "text": [
            "The amount currently in your account is: $ 100\n",
            "None\n",
            "The amount currently in your account is: $ 600\n",
            "None\n",
            "Your balance is : $ 200\n",
            "None\n",
            "This are the user's details: \n",
            "\n",
            "Name  Victor\n",
            "Gender  Male\n",
            "Age  21\n",
            "Your balance is : $ 200\n",
            "None\n"
          ]
        }
      ]
    }
  ]
}