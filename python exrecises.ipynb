{
 "cells": [
  {
   "cell_type": "markdown",
   "id": "0b09a53d",
   "metadata": {},
   "source": [
    "# python exrecises"
   ]
  },
  {
   "cell_type": "markdown",
   "id": "f6dfd3ce",
   "metadata": {},
   "source": [
    ". Write a Python function that takes a sequence of numbers and determines whether all the numbers are different from each other"
   ]
  },
  {
   "cell_type": "code",
   "execution_count": 9,
   "id": "549aef20",
   "metadata": {},
   "outputs": [
    {
     "name": "stdout",
     "output_type": "stream",
     "text": [
      "True\n",
      "False\n"
     ]
    }
   ],
   "source": [
    "def are_all_numbers_different(numbers):\n",
    "    return len(set(numbers))== len(numbers)\n",
    "\n",
    "numbers1 = [1, 2, 3, 4, 5]\n",
    "print(are_all_numbers_different(numbers1)) # True\n",
    "\n",
    "numbers2 = [1, 2, 3, 4, 4]\n",
    "print(are_all_numbers_different(numbers2))"
   ]
  },
  {
   "cell_type": "markdown",
   "id": "d4bf2bde",
   "metadata": {},
   "source": [
    "Write a Python program that creates all possible strings using the letters 'a', 'e', 'i', 'o', and 'u'. Ensure that each character is used only once"
   ]
  },
  {
   "cell_type": "code",
   "execution_count": 4,
   "id": "3806f7f7",
   "metadata": {},
   "outputs": [],
   "source": [
    "def use_characters_once(letters):\n",
    "    letters='a','e','i','o','u'\n",
    "    words=[]\n",
    "    for char in letters:\n",
    "        if len(set(letters))==len(letters):\n",
    "            return  words.append(char)\n",
    "       \n",
    "    \n",
    "use_characters_once('letters')   \n",
    "            \n",
    "        \n",
    "        "
   ]
  },
  {
   "cell_type": "code",
   "execution_count": 14,
   "id": "3cf09d64",
   "metadata": {},
   "outputs": [
    {
     "name": "stdout",
     "output_type": "stream",
     "text": [
      "['iauoe', 'eauio', 'uoiae', 'iaeuo', 'oeiau', 'uaoei', 'oiaeu', 'eoaui', 'auoei', 'ueaoi', 'ieoau', 'eoaiu', 'aeoui', 'oeuai', 'ouaie', 'uieao', 'ueoia', 'uiaoe', 'oauie', 'oeiua', 'ieuoa', 'eoiua', 'ouiea', 'oueia', 'ueoai', 'iaeou', 'uaoie', 'eiuoa', 'ieauo', 'ioeau', 'euoai', 'euioa', 'aueoi', 'aoeiu', 'iouea', 'ieuao', 'aoieu', 'eaoui', 'iueao', 'iaueo', 'euaoi', 'ieaou', 'eouai', 'aeiou', 'uieoa', 'eioua', 'iaoue', 'oeuia', 'eaoiu', 'ioeua', 'oaeiu', 'oieau', 'oauei', 'aeoiu', 'aiueo', 'aueio', 'ouiae', 'eiauo', 'ioaeu', 'uiaeo', 'oaieu', 'eoiau', 'uaeoi', 'aiuoe', 'aeuoi', 'auoie', 'aioue', 'aeuio', 'eiuao', 'oaiue', 'iuoae', 'aouei', 'ueioa', 'aeiuo', 'eaiou', 'auioe', 'eaiuo', 'oiuea', 'oiaue', 'aoiue', 'oaeui', 'eioau', 'oeaui', 'uoiea', 'eauoi', 'uaieo', 'auieo', 'iuoea', 'oeaiu', 'uoaei', 'eouia', 'iuaoe', 'oueai', 'uioae', 'uaioe', 'iouae', 'uoeai', 'euaio', 'eiaou', 'oieua', 'ueiao', 'aoeui', 'iaoeu', 'uoeia', 'aouie', 'iueoa', 'uioea', 'aioeu', 'euiao', 'aieou', 'ueaio', 'ieoua', 'euoia', 'ouaei', 'aieuo', 'iuaeo', 'ioaue', 'uaeio', 'uoaie', 'oiuae']\n"
     ]
    }
   ],
   "source": [
    "def use_characters_once(letters):\n",
    "    \"\"\"\n",
    "    This function takes a string of characters and returns a list of all possible\n",
    "    permutations of those characters, ensuring that each character is used only once.\n",
    "    \"\"\"\n",
    "    import itertools\n",
    "    \n",
    "    # Convert the input string to a list of characters\n",
    "    chars = list(letters)\n",
    "    \n",
    "    # Generate all permutations of the list\n",
    "    perms = itertools.permutations(chars)\n",
    "    \n",
    "    # Create a list of unique words from the permutations\n",
    "    words = list(set([''.join(perm) for perm in perms]))\n",
    "    \n",
    "    return words\n",
    "words = use_characters_once('aeiou')\n",
    "print(words)\n"
   ]
  },
  {
   "cell_type": "markdown",
   "id": "9df06581",
   "metadata": {},
   "source": [
    "Write a Python program that removes and prints every third number from a list of numbers until the list is empty."
   ]
  },
  {
   "cell_type": "code",
   "execution_count": 16,
   "id": "941e8631",
   "metadata": {},
   "outputs": [
    {
     "ename": "TypeError",
     "evalue": "'builtin_function_or_method' object is not subscriptable",
     "output_type": "error",
     "traceback": [
      "\u001b[1;31m---------------------------------------------------------------------------\u001b[0m",
      "\u001b[1;31mTypeError\u001b[0m                                 Traceback (most recent call last)",
      "\u001b[1;32m~\\AppData\\Local\\Temp\\ipykernel_14196\\4016571361.py\u001b[0m in \u001b[0;36m<module>\u001b[1;34m\u001b[0m\n\u001b[0;32m      8\u001b[0m \u001b[0mlst\u001b[0m\u001b[1;33m=\u001b[0m\u001b[1;33m[\u001b[0m\u001b[1;36m1\u001b[0m\u001b[1;33m,\u001b[0m\u001b[1;36m2\u001b[0m\u001b[1;33m,\u001b[0m\u001b[1;36m3\u001b[0m\u001b[1;33m,\u001b[0m\u001b[1;36m4\u001b[0m\u001b[1;33m,\u001b[0m\u001b[1;36m5\u001b[0m\u001b[1;33m,\u001b[0m\u001b[1;36m6\u001b[0m\u001b[1;33m,\u001b[0m\u001b[1;36m7\u001b[0m\u001b[1;33m,\u001b[0m\u001b[1;36m8\u001b[0m\u001b[1;33m,\u001b[0m\u001b[1;36m9\u001b[0m\u001b[1;33m]\u001b[0m\u001b[1;33m\u001b[0m\u001b[1;33m\u001b[0m\u001b[0m\n\u001b[0;32m      9\u001b[0m \u001b[1;33m\u001b[0m\u001b[0m\n\u001b[1;32m---> 10\u001b[1;33m \u001b[0mremove_third_number\u001b[0m\u001b[1;33m(\u001b[0m\u001b[0mlst\u001b[0m\u001b[1;33m)\u001b[0m\u001b[1;33m\u001b[0m\u001b[1;33m\u001b[0m\u001b[0m\n\u001b[0m\u001b[0;32m     11\u001b[0m \u001b[1;33m\u001b[0m\u001b[0m\n\u001b[0;32m     12\u001b[0m \u001b[1;33m\u001b[0m\u001b[0m\n",
      "\u001b[1;32m~\\AppData\\Local\\Temp\\ipykernel_14196\\4016571361.py\u001b[0m in \u001b[0;36mremove_third_number\u001b[1;34m(lst)\u001b[0m\n\u001b[0;32m      3\u001b[0m         \u001b[1;32mfor\u001b[0m \u001b[0mnum\u001b[0m \u001b[1;32min\u001b[0m \u001b[0mlst\u001b[0m\u001b[1;33m:\u001b[0m\u001b[1;33m\u001b[0m\u001b[1;33m\u001b[0m\u001b[0m\n\u001b[0;32m      4\u001b[0m             \u001b[1;32mif\u001b[0m \u001b[0mnum\u001b[0m \u001b[1;33m==\u001b[0m\u001b[0mlst\u001b[0m\u001b[1;33m[\u001b[0m\u001b[1;36m2\u001b[0m\u001b[1;33m]\u001b[0m\u001b[1;33m:\u001b[0m\u001b[1;33m\u001b[0m\u001b[1;33m\u001b[0m\u001b[0m\n\u001b[1;32m----> 5\u001b[1;33m                 \u001b[0mlst\u001b[0m\u001b[1;33m.\u001b[0m\u001b[0mpop\u001b[0m\u001b[1;33m[\u001b[0m\u001b[1;36m2\u001b[0m\u001b[1;33m]\u001b[0m \u001b[1;32mand\u001b[0m \u001b[0mprint\u001b[0m \u001b[1;33m(\u001b[0m\u001b[0mnum\u001b[0m\u001b[1;33m)\u001b[0m\u001b[1;33m\u001b[0m\u001b[1;33m\u001b[0m\u001b[0m\n\u001b[0m\u001b[0;32m      6\u001b[0m \u001b[1;33m\u001b[0m\u001b[0m\n\u001b[0;32m      7\u001b[0m \u001b[1;33m\u001b[0m\u001b[0m\n",
      "\u001b[1;31mTypeError\u001b[0m: 'builtin_function_or_method' object is not subscriptable"
     ]
    }
   ],
   "source": [
    "def remove_third_number(lst):\n",
    "    while True:\n",
    "        for num in lst:\n",
    "            if num ==lst[2]:\n",
    "                lst.pop[2] and print (num)\n",
    "                \n",
    "                \n",
    "lst=[1,2,3,4,5,6,7,8,9]     \n",
    "\n",
    "remove_third_number(lst)\n",
    "                \n",
    "        \n",
    "        \n",
    "                \n",
    "    "
   ]
  },
  {
   "cell_type": "code",
   "execution_count": 17,
   "id": "32dd1ba4",
   "metadata": {},
   "outputs": [
    {
     "name": "stdout",
     "output_type": "stream",
     "text": [
      "3\n",
      "4\n",
      "5\n",
      "6\n",
      "7\n",
      "8\n",
      "9\n",
      "10\n",
      "2\n",
      "1\n"
     ]
    }
   ],
   "source": [
    "def remove_third_number(lst):\n",
    "    while lst:\n",
    "        index = 2  # index of the third number (starting from 0)\n",
    "        if len(lst) < 3:\n",
    "            index = len(lst) - 1  # last index if there are less than 3 elements left\n",
    "        num = lst.pop(index)\n",
    "        print(num)\n",
    "lst = [1, 2, 3, 4, 5, 6, 7, 8, 9, 10]\n",
    "remove_third_number(lst)\n"
   ]
  },
  {
   "cell_type": "code",
   "execution_count": 19,
   "id": "2d3443cc",
   "metadata": {},
   "outputs": [
    {
     "name": "stdout",
     "output_type": "stream",
     "text": [
      "2\n",
      "5\n",
      "8\n"
     ]
    },
    {
     "ename": "IndexError",
     "evalue": "pop index out of range",
     "output_type": "error",
     "traceback": [
      "\u001b[1;31m---------------------------------------------------------------------------\u001b[0m",
      "\u001b[1;31mIndexError\u001b[0m                                Traceback (most recent call last)",
      "\u001b[1;32m~\\AppData\\Local\\Temp\\ipykernel_14196\\185806939.py\u001b[0m in \u001b[0;36m<module>\u001b[1;34m\u001b[0m\n\u001b[0;32m      6\u001b[0m         \u001b[0mindex\u001b[0m \u001b[1;33m+=\u001b[0m \u001b[1;36m2\u001b[0m\u001b[1;33m\u001b[0m\u001b[1;33m\u001b[0m\u001b[0m\n\u001b[0;32m      7\u001b[0m \u001b[1;33m\u001b[0m\u001b[0m\n\u001b[1;32m----> 8\u001b[1;33m \u001b[0mremove_and_print_every_third_number\u001b[0m\u001b[1;33m(\u001b[0m\u001b[1;33m[\u001b[0m\u001b[1;36m1\u001b[0m\u001b[1;33m,\u001b[0m \u001b[1;36m2\u001b[0m\u001b[1;33m,\u001b[0m \u001b[1;36m3\u001b[0m\u001b[1;33m,\u001b[0m \u001b[1;36m4\u001b[0m\u001b[1;33m,\u001b[0m \u001b[1;36m5\u001b[0m\u001b[1;33m,\u001b[0m \u001b[1;36m6\u001b[0m\u001b[1;33m,\u001b[0m \u001b[1;36m7\u001b[0m\u001b[1;33m,\u001b[0m \u001b[1;36m8\u001b[0m\u001b[1;33m,\u001b[0m \u001b[1;36m9\u001b[0m\u001b[1;33m]\u001b[0m\u001b[1;33m)\u001b[0m\u001b[1;33m\u001b[0m\u001b[1;33m\u001b[0m\u001b[0m\n\u001b[0m",
      "\u001b[1;32m~\\AppData\\Local\\Temp\\ipykernel_14196\\185806939.py\u001b[0m in \u001b[0;36mremove_and_print_every_third_number\u001b[1;34m(numbers)\u001b[0m\n\u001b[0;32m      2\u001b[0m     \u001b[0mindex\u001b[0m \u001b[1;33m=\u001b[0m \u001b[1;36m0\u001b[0m\u001b[1;33m\u001b[0m\u001b[1;33m\u001b[0m\u001b[0m\n\u001b[0;32m      3\u001b[0m     \u001b[1;32mwhile\u001b[0m \u001b[0mlen\u001b[0m\u001b[1;33m(\u001b[0m\u001b[0mnumbers\u001b[0m\u001b[1;33m)\u001b[0m \u001b[1;33m>\u001b[0m \u001b[1;36m0\u001b[0m\u001b[1;33m:\u001b[0m\u001b[1;33m\u001b[0m\u001b[1;33m\u001b[0m\u001b[0m\n\u001b[1;32m----> 4\u001b[1;33m         \u001b[0mnumbers\u001b[0m\u001b[1;33m.\u001b[0m\u001b[0mpop\u001b[0m\u001b[1;33m(\u001b[0m\u001b[0mindex\u001b[0m\u001b[1;33m)\u001b[0m\u001b[1;33m\u001b[0m\u001b[1;33m\u001b[0m\u001b[0m\n\u001b[0m\u001b[0;32m      5\u001b[0m         \u001b[0mprint\u001b[0m\u001b[1;33m(\u001b[0m\u001b[0mnumbers\u001b[0m\u001b[1;33m[\u001b[0m\u001b[0mindex\u001b[0m\u001b[1;33m]\u001b[0m\u001b[1;33m)\u001b[0m\u001b[1;33m\u001b[0m\u001b[1;33m\u001b[0m\u001b[0m\n\u001b[0;32m      6\u001b[0m         \u001b[0mindex\u001b[0m \u001b[1;33m+=\u001b[0m \u001b[1;36m2\u001b[0m\u001b[1;33m\u001b[0m\u001b[1;33m\u001b[0m\u001b[0m\n",
      "\u001b[1;31mIndexError\u001b[0m: pop index out of range"
     ]
    }
   ],
   "source": [
    "def remove_and_print_every_third_number(numbers):\n",
    "    index = 0\n",
    "    while len(numbers) > 0:\n",
    "        numbers.pop(index)\n",
    "        print(numbers[index])\n",
    "        index += 2\n",
    "        \n",
    "remove_and_print_every_third_number([1, 2, 3, 4, 5, 6, 7, 8, 9])     "
   ]
  },
  {
   "cell_type": "code",
   "execution_count": 20,
   "id": "a2caa5b2",
   "metadata": {},
   "outputs": [
    {
     "name": "stdout",
     "output_type": "stream",
     "text": [
      "30\n",
      "60\n",
      "90\n",
      "40\n",
      "80\n",
      "50\n",
      "20\n",
      "70\n",
      "10\n"
     ]
    }
   ],
   "source": [
    "def remove_nums(int_list):\n",
    "  #list starts with 0 index\n",
    "  position = 3 - 1 \n",
    "  idx = 0\n",
    "  len_list = (len(int_list))\n",
    "  while len_list>0:\n",
    "    idx = (position+idx)%len_list\n",
    "    print(int_list.pop(idx))\n",
    "    len_list -= 1\n",
    "nums = [10,20,30,40,50,60,70,80,90]\n",
    "remove_nums(nums)"
   ]
  },
  {
   "cell_type": "markdown",
   "id": "e88aa553",
   "metadata": {},
   "source": [
    "Write a Python program to count the number of each character in a text file."
   ]
  },
  {
   "cell_type": "code",
   "execution_count": 33,
   "id": "7dccb6fd",
   "metadata": {},
   "outputs": [
    {
     "data": {
      "text/plain": [
       "{'z': 1,\n",
       " 'i': 1,\n",
       " 'n': 1,\n",
       " 'j': 1,\n",
       " 'a': 2,\n",
       " 't': 1,\n",
       " 'h': 1,\n",
       " 'r': 1,\n",
       " 'o': 1,\n",
       " 'p': 1,\n",
       " 's': 1}"
      ]
     },
     "execution_count": 33,
     "metadata": {},
     "output_type": "execute_result"
    }
   ],
   "source": [
    "def count_characters(characters):\n",
    "    char_count={}\n",
    "    for char in characters:\n",
    "        if char in char_count:\n",
    "            char_count[char] +=1\n",
    "        else:\n",
    "            char_count[char]=1\n",
    "    return char_count\n",
    "    \n",
    "count_characters(\"zinjathropas\")   \n",
    "            \n",
    "    "
   ]
  },
  {
   "cell_type": "markdown",
   "id": "6564e9dc",
   "metadata": {},
   "source": [
    "Write a Python program to get the third side of a right-angled triangle from two given sides."
   ]
  },
  {
   "cell_type": "code",
   "execution_count": 43,
   "id": "9773ae9b",
   "metadata": {},
   "outputs": [
    {
     "name": "stdout",
     "output_type": "stream",
     "text": [
      "The length of the third side is 5.00\n"
     ]
    }
   ],
   "source": [
    "import math\n",
    "\n",
    "def get_third_side(side1, side2):\n",
    "    third_side = math.sqrt(side1**2 + side2**2)\n",
    "    return third_side\n",
    "\n",
    "# Example usage\n",
    "a = 3\n",
    "b = 4\n",
    "c = get_third_side(a, b)\n",
    "print(f\"The length of the third side is {c:.2f}\")\n"
   ]
  },
  {
   "cell_type": "markdown",
   "id": "ea58130d",
   "metadata": {},
   "source": [
    "Write a Python program to find the median among three given numbers."
   ]
  },
  {
   "cell_type": "code",
   "execution_count": 44,
   "id": "c8bd4ae9",
   "metadata": {},
   "outputs": [
    {
     "data": {
      "text/plain": [
       "4"
      ]
     },
     "execution_count": 44,
     "metadata": {},
     "output_type": "execute_result"
    }
   ],
   "source": [
    "def median_of_three(a, b, c):\n",
    "    # sort the numbers in ascending order\n",
    "    sorted_numbers = sorted([a, b, c])\n",
    "    \n",
    "    # get the middle number\n",
    "    middle = sorted_numbers[1]\n",
    "    \n",
    "    # if the middle number is the same as the first or third number,\n",
    "    # then it is the median\n",
    "    if middle == sorted_numbers[0] or middle == sorted_numbers[2]:\n",
    "        return middle\n",
    "    \n",
    "    # otherwise, return the middle number as the median\n",
    "    return middle\n",
    "\n",
    "median_of_three(3,5,4)\n"
   ]
  },
  {
   "cell_type": "code",
   "execution_count": null,
   "id": "e9bd51e9",
   "metadata": {},
   "outputs": [],
   "source": []
  },
  {
   "cell_type": "code",
   "execution_count": 5,
   "id": "81cec088",
   "metadata": {},
   "outputs": [
    {
     "data": {
      "text/plain": [
       "4"
      ]
     },
     "execution_count": 5,
     "metadata": {},
     "output_type": "execute_result"
    }
   ],
   "source": [
    "def count_divisors(num, parity):\n",
    "    \"\"\"\n",
    "    This function counts the total number of even or odd divisors of a given integer.\n",
    "\n",
    "    Arguments:\n",
    "    num -- the integer to be analyzed\n",
    "    parity -- the parity of the divisors we want to count ('even' or 'odd')\n",
    "\n",
    "    Returns:\n",
    "    count -- the total number of even or odd divisors of the given integer\n",
    "    \"\"\"\n",
    "\n",
    "    # Initialize the count to zero\n",
    "    count = 0\n",
    "\n",
    "    # Loop through the divisors of the integer\n",
    "    for i in range(1, num+1):\n",
    "        # If i is a divisor of the integer, count it\n",
    "        if num % i == 0:\n",
    "            # If the divisor has the desired parity, count it\n",
    "            if (i % 2 == 0 and parity == 'even') or (i % 2 != 0 and parity == 'odd'):\n",
    "                count += 1\n",
    "\n",
    "    # Return the count\n",
    "    return count\n",
    "\n",
    "count_divisors(12,\"even\")\n"
   ]
  },
  {
   "cell_type": "code",
   "execution_count": 13,
   "id": "782915bb",
   "metadata": {},
   "outputs": [
    {
     "ename": "IndentationError",
     "evalue": "unindent does not match any outer indentation level (<tokenize>, line 16)",
     "output_type": "error",
     "traceback": [
      "\u001b[1;36m  File \u001b[1;32m\"<tokenize>\"\u001b[1;36m, line \u001b[1;32m16\u001b[0m\n\u001b[1;33m    current_number = number\u001b[0m\n\u001b[1;37m    ^\u001b[0m\n\u001b[1;31mIndentationError\u001b[0m\u001b[1;31m:\u001b[0m unindent does not match any outer indentation level\n"
     ]
    }
   ],
   "source": [
    "def repetitive_subtraction(number):\n",
    "  \"\"\"Returns the smallest positive number that can be reached by repeatedly subtracting the sum of its digits from a given number.\n",
    "\n",
    "  Args:\n",
    "    number: A positive number.\n",
    "\n",
    "  Returns:\n",
    "    The smallest positive number that can be reached by repeatedly subtracting the sum of its digits from a given number.\n",
    "  \"\"\"\n",
    "\n",
    "  # Check if the number is negative.\n",
    "if number < 0:\n",
    "    raise ValueError(\"The number must be positive.\")\n",
    "\n",
    "  # Initialize the current number and the smallest positive number.\n",
    "  current_number = number\n",
    "  smallest_positive_number = number\n",
    "\n",
    "  # While the current number is not positive, continue subtracting the sum of its digits from it.\n",
    "    while current_number < 0:\n",
    "    # Get the sum of the digits of the current number.\n",
    "    sum_of_digits = 0\n",
    "        while current_number > 0:\n",
    "      sum_of_digits += current_number % 10\n",
    "          current_number //= 10\n",
    "\n",
    "    # Subtract the sum of the digits from the current number.\n",
    "            current_number -= sum_of_digits\n",
    "\n",
    "    # If the current number is still negative, update the smallest positive number.\n",
    "    if current_number < 0:\n",
    "      smallest_positive_number = current_number\n",
    "\n",
    "      return smallest_positive_number\n"
   ]
  },
  {
   "cell_type": "markdown",
   "id": "be922d2d",
   "metadata": {},
   "source": [
    "Write a Python program to find common divisors between two numbers in a given pair."
   ]
  },
  {
   "cell_type": "code",
   "execution_count": 58,
   "id": "34f3f197",
   "metadata": {},
   "outputs": [
    {
     "name": "stdout",
     "output_type": "stream",
     "text": [
      "[1, 2, 3, 4, 6, 8, 12, 24]\n"
     ]
    }
   ],
   "source": [
    "def common_divisors(num1,num2):\n",
    "    common_divisor=[]\n",
    "    min_num = min(num1, num2)\n",
    "    for i in range(1,min_num+1):\n",
    "        if num1%i==0 and num2%i==0:\n",
    "            common_divisor.append(i)\n",
    "            \n",
    "    return common_divisor   \n",
    "    \n",
    "    \n",
    "print(common_divisors(24, 48))\n",
    "        \n",
    "        "
   ]
  },
  {
   "cell_type": "markdown",
   "id": "b4177b7d",
   "metadata": {},
   "source": [
    " Write a Python program to check whether three given lengths (integers) of three sides form a right triangle. Print \"Yes\" if the given sides form a right triangle otherwise print \"No\"."
   ]
  },
  {
   "cell_type": "code",
   "execution_count": 67,
   "id": "c59f3110",
   "metadata": {},
   "outputs": [
    {
     "name": "stdout",
     "output_type": "stream",
     "text": [
      "no\n"
     ]
    }
   ],
   "source": [
    "# right sided triangle is c**2= a**2+b**2\n",
    "\n",
    "\n",
    "def triangle_sides_rightangle(a,b,c):\n",
    "    if c**2== a**2 + b**2:\n",
    "        print(\"yes\")\n",
    "    else:\n",
    "        print(\"no\")\n",
    "   \n",
    "        \n",
    "        \n",
    "triangle_sides_rightangle(3,4,5)     "
   ]
  },
  {
   "cell_type": "markdown",
   "id": "43ebd2d4",
   "metadata": {},
   "source": [
    "Write a Python program to compute the amount of debt in n months. Each month, the loan adds 5% interest to the $100,000 debt and rounds to the nearest 1,000 above."
   ]
  },
  {
   "cell_type": "code",
   "execution_count": 68,
   "id": "89935ddb",
   "metadata": {},
   "outputs": [
    {
     "ename": "SyntaxError",
     "evalue": "invalid syntax (1472312456.py, line 4)",
     "output_type": "error",
     "traceback": [
      "\u001b[1;36m  File \u001b[1;32m\"C:\\Users\\Dell E5470\\AppData\\Local\\Temp\\ipykernel_14196\\1472312456.py\"\u001b[1;36m, line \u001b[1;32m4\u001b[0m\n\u001b[1;33m    if month +=1:\u001b[0m\n\u001b[1;37m             ^\u001b[0m\n\u001b[1;31mSyntaxError\u001b[0m\u001b[1;31m:\u001b[0m invalid syntax\n"
     ]
    }
   ],
   "source": [
    "\n",
    "def debt_total(months):\n",
    "    debt=100000\n",
    "    for month in months:\n",
    "        if month +=1:\n",
    "            round(debt= debt+(debt*0.05),1000)\n",
    "     \n",
    "    return debt     \n",
    "\n",
    "\n",
    "debt_total(;7)\n",
    "            \n",
    "            \n",
    "    \n",
    "    "
   ]
  },
  {
   "cell_type": "code",
   "execution_count": null,
   "id": "70a9ad45",
   "metadata": {},
   "outputs": [],
   "source": []
  },
  {
   "cell_type": "code",
   "execution_count": null,
   "id": "bd57d730",
   "metadata": {},
   "outputs": [],
   "source": []
  }
 ],
 "metadata": {
  "kernelspec": {
   "display_name": "Python 3 (ipykernel)",
   "language": "python",
   "name": "python3"
  },
  "language_info": {
   "codemirror_mode": {
    "name": "ipython",
    "version": 3
   },
   "file_extension": ".py",
   "mimetype": "text/x-python",
   "name": "python",
   "nbconvert_exporter": "python",
   "pygments_lexer": "ipython3",
   "version": "3.9.13"
  }
 },
 "nbformat": 4,
 "nbformat_minor": 5
}
