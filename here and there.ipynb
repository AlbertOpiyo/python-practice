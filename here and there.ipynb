{
 "cells": [
  {
   "cell_type": "markdown",
   "id": "cca82cbf",
   "metadata": {},
   "source": [
    "Given two integer numbers return their product only if the product is equal to or lower than 1000, else return their sum."
   ]
  },
  {
   "cell_type": "code",
   "execution_count": 1,
   "id": "c085bbcb",
   "metadata": {},
   "outputs": [
    {
     "data": {
      "text/plain": [
       "2010"
      ]
     },
     "execution_count": 1,
     "metadata": {},
     "output_type": "execute_result"
    }
   ],
   "source": [
    "def calculate(a, b):\n",
    "    if a*b <= 1000:\n",
    "        return a*b\n",
    "    else:\n",
    "        return a+b\n",
    "    \n",
    "calculate(10, 2000)    "
   ]
  },
  {
   "cell_type": "markdown",
   "id": "98b46237",
   "metadata": {},
   "source": [
    "Write a program to accept a string from the user and display characters that are present at an even index number"
   ]
  },
  {
   "cell_type": "code",
   "execution_count": 20,
   "id": "7b17eafb",
   "metadata": {},
   "outputs": [
    {
     "name": "stdout",
     "output_type": "stream",
     "text": [
      "enter a string: odhiambo\n",
      "h\n",
      "a\n",
      "b\n"
     ]
    }
   ],
   "source": [
    "name=input(\"enter a string: \")\n",
    "length_name=len(name)\n",
    "\n",
    "for i in range(2,length_name,2):\n",
    "    if  i % 2==0:\n",
    "        print (name[i])"
   ]
  },
  {
   "cell_type": "code",
   "execution_count": 22,
   "id": "8f378c4e",
   "metadata": {},
   "outputs": [
    {
     "name": "stdout",
     "output_type": "stream",
     "text": [
      "enter a string: odhiambo\n",
      "o\n",
      "h\n",
      "a\n",
      "b\n"
     ]
    }
   ],
   "source": [
    "name=input(\"enter a string: \")\n",
    "x = list(name)\n",
    "for i in x[0::2]:\n",
    "    print(i)"
   ]
  },
  {
   "cell_type": "markdown",
   "id": "d63f10e3",
   "metadata": {},
   "source": [
    "Write a program to remove characters from a string starting from zero up to n and return a new string."
   ]
  },
  {
   "cell_type": "code",
   "execution_count": 27,
   "id": "1816027a",
   "metadata": {},
   "outputs": [
    {
     "name": "stdout",
     "output_type": "stream",
     "text": [
      "bert\n"
     ]
    }
   ],
   "source": [
    "def remove_characters(name,number):\n",
    "    x=name[2:]\n",
    "    return x\n",
    "  \n",
    "\n",
    "print(remove_characters('Albert', 2))      \n",
    "    "
   ]
  },
  {
   "cell_type": "markdown",
   "id": "d0bcc154",
   "metadata": {},
   "source": [
    "Write a function to return True if the first and last number of a given list is same. If numbers are different then return False."
   ]
  },
  {
   "cell_type": "code",
   "execution_count": 31,
   "id": "973c69fa",
   "metadata": {},
   "outputs": [
    {
     "name": "stdout",
     "output_type": "stream",
     "text": [
      "True\n",
      "False\n"
     ]
    }
   ],
   "source": [
    "def same_number(lst):\n",
    "    first_number=lst[0]\n",
    "    last_number=lst[-1]\n",
    "    \n",
    "    if first_number == last_number:\n",
    "        return True\n",
    "    else:\n",
    "        return False\n",
    "    \n",
    "print(same_number([10, 20, 30, 40, 10]))\n",
    "print(same_number([75, 65, 35, 75, 30]))\n"
   ]
  },
  {
   "cell_type": "markdown",
   "id": "8f0c5b32",
   "metadata": {},
   "source": [
    "Write a program to check if the given number is a palindrome number."
   ]
  },
  {
   "cell_type": "code",
   "execution_count": 42,
   "id": "cac8a5df",
   "metadata": {},
   "outputs": [
    {
     "name": "stdout",
     "output_type": "stream",
     "text": [
      " its not my lucky day\n"
     ]
    }
   ],
   "source": [
    "def palindrome(num):\n",
    "    str_num=str(num)\n",
    "    \n",
    "    if str_num== str_num[::-1]:\n",
    "            print (\"it is a palindrome\")\n",
    "    else:\n",
    "            print (\" its not my lucky day\")\n",
    "            \n",
    "palindrome(156)            \n",
    "            "
   ]
  },
  {
   "cell_type": "markdown",
   "id": "d7c1c07a",
   "metadata": {},
   "source": [
    "Given a two list of numbers, write a program to create a new list such that the new list should contain odd numbers from the first list and even numbers from the second list."
   ]
  },
  {
   "cell_type": "code",
   "execution_count": 52,
   "id": "c447660e",
   "metadata": {},
   "outputs": [
    {
     "name": "stdout",
     "output_type": "stream",
     "text": [
      "[25, 35, 40, 60, 90]\n"
     ]
    }
   ],
   "source": [
    "def combine(lst1, lst2):\n",
    "    new_list = []\n",
    "    for i in lst1:\n",
    "        if i % 2 != 0:\n",
    "            new_list.append(i)\n",
    "    for n in lst2:\n",
    "        if n % 2 == 0:\n",
    "            new_list.append(n)\n",
    "    return new_list\n",
    "\n",
    "result = combine([10, 20, 25, 30, 35], [40, 45, 60, 75, 90])\n",
    "print(result)           "
   ]
  },
  {
   "cell_type": "code",
   "execution_count": 53,
   "id": "b05d71d6",
   "metadata": {},
   "outputs": [
    {
     "name": "stdout",
     "output_type": "stream",
     "text": [
      "75\n",
      "150\n",
      "145\n"
     ]
    }
   ],
   "source": [
    "numbers = [12, 75, 150, 180, 145, 525, 50]\n",
    "# iterate each item of a list\n",
    "for item in numbers:\n",
    "    if item > 500:\n",
    "        break\n",
    "    elif item > 150:\n",
    "        continue\n",
    "    # check if number is divisible by 5\n",
    "    elif item % 5 == 0:\n",
    "        print(item)"
   ]
  },
  {
   "cell_type": "markdown",
   "id": "fa845f97",
   "metadata": {},
   "source": [
    "Write a program to create a function that takes two arguments, name and age, and print their value"
   ]
  },
  {
   "cell_type": "code",
   "execution_count": 54,
   "id": "a210c5ac",
   "metadata": {},
   "outputs": [
    {
     "name": "stdout",
     "output_type": "stream",
     "text": [
      "Ben 25\n"
     ]
    }
   ],
   "source": [
    "def demo(name, age):\n",
    "    # print value\n",
    "    print(name, age)\n",
    "\n",
    "# call function\n",
    "demo(\"Ben\", 25)"
   ]
  },
  {
   "cell_type": "code",
   "execution_count": 55,
   "id": "99382b18",
   "metadata": {},
   "outputs": [
    {
     "name": "stdout",
     "output_type": "stream",
     "text": [
      "(50, 30)\n"
     ]
    }
   ],
   "source": [
    "def calculation(a, b):\n",
    "    addition = a + b\n",
    "    subtraction = a - b\n",
    "    # return multiple values separated by comma\n",
    "    return addition, subtraction\n",
    "\n",
    "# get result in tuple format\n",
    "res = calculation(40, 10)\n",
    "print(res)"
   ]
  },
  {
   "cell_type": "code",
   "execution_count": null,
   "id": "60553355",
   "metadata": {},
   "outputs": [],
   "source": []
  }
 ],
 "metadata": {
  "kernelspec": {
   "display_name": "Python 3 (ipykernel)",
   "language": "python",
   "name": "python3"
  },
  "language_info": {
   "codemirror_mode": {
    "name": "ipython",
    "version": 3
   },
   "file_extension": ".py",
   "mimetype": "text/x-python",
   "name": "python",
   "nbconvert_exporter": "python",
   "pygments_lexer": "ipython3",
   "version": "3.9.13"
  }
 },
 "nbformat": 4,
 "nbformat_minor": 5
}
