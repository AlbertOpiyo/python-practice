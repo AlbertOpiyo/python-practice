{
  "nbformat": 4,
  "nbformat_minor": 0,
  "metadata": {
    "colab": {
      "provenance": []
    },
    "kernelspec": {
      "name": "python3",
      "display_name": "Python 3"
    },
    "language_info": {
      "name": "python"
    }
  },
  "cells": [
    {
      "cell_type": "code",
      "source": [
        "import numpy as np\n",
        "import pandas as pd\n",
        "import matplotlib.pyplot as plt"
      ],
      "metadata": {
        "id": "_J1ArLQQCB45"
      },
      "execution_count": null,
      "outputs": []
    },
    {
      "cell_type": "markdown",
      "source": [
        "One of the simplest ways you can encrypt a message is by rearranging the letters: one can imagine taking a string and rearranging it so that the letters at even indexes appear first, followed by the ones at odd indexes. So, for example, `'message'` will become `'msaeesg'` (remember Python counts from zero!).\n",
        "\n",
        "Write a function that does this even-then-odd encryption:"
      ],
      "metadata": {
        "id": "E7Ecx_wMBiBD"
      }
    },
    {
      "cell_type": "markdown",
      "source": [
        "encrypt"
      ],
      "metadata": {
        "id": "84d6lEsgVbrZ"
      }
    },
    {
      "cell_type": "code",
      "execution_count": null,
      "metadata": {
        "colab": {
          "base_uri": "https://localhost:8080/"
        },
        "id": "pfCseXdd_mHF",
        "outputId": "eb9056f0-43b5-478c-eef3-ffe45eae718c"
      },
      "outputs": [
        {
          "output_type": "stream",
          "name": "stdout",
          "text": [
            "msaeesg\n"
          ]
        }
      ],
      "source": [
        "def even_odd_encrypt(phrase: str):\n",
        "    even_chars = \"\"\n",
        "    odd_chars = \"\"\n",
        "\n",
        "    for i, char in enumerate(phrase): # these is used to give the position of each character with its index\n",
        "        if i % 2 == 0:  # this gives an even index\n",
        "            even_chars += char\n",
        "        else:  # this gives an odd index\n",
        "            odd_chars += char\n",
        "\n",
        "    encrypted_phrase = even_chars + odd_chars\n",
        "    return encrypted_phrase\n",
        "\n",
        "encrypted_message = even_odd_encrypt('message')\n",
        "print(encrypted_message)"
      ]
    },
    {
      "cell_type": "markdown",
      "source": [
        "decrypt"
      ],
      "metadata": {
        "id": "z6j3FpTDVd5k"
      }
    },
    {
      "cell_type": "code",
      "source": [
        "def even_odd_decrypt(encrypted_message):\n",
        "    mid = len(encrypted_message) // 2\n",
        "    even_chars = encrypted_message[:mid+1]\n",
        "    odd_chars = encrypted_message[mid+1:]\n",
        "\n",
        "    decrypted_message = \"\"\n",
        "\n",
        "    for i in range(mid):\n",
        "        decrypted_message += even_chars[i]\n",
        "        decrypted_message += odd_chars[i]\n",
        "\n",
        "    if len(even_chars) > len(odd_chars):\n",
        "        decrypted_message += even_chars[-1]\n",
        "\n",
        "    return decrypted_message\n",
        "\n",
        "original_message = 'message'\n",
        "encrypted_message = even_odd_encrypt(original_message)\n",
        "decrypted_message = even_odd_decrypt(encrypted_message)\n",
        "\n",
        "print(\"Original message:\", original_message)\n",
        "print(\"Encrypted message:\", encrypted_message)\n",
        "print(\"Decrypted message:\", decrypted_message)\n"
      ],
      "metadata": {
        "colab": {
          "base_uri": "https://localhost:8080/"
        },
        "id": "7iDzrIF-0ghU",
        "outputId": "14332837-7669-4f53-8bf2-21063ed376a0"
      },
      "execution_count": null,
      "outputs": [
        {
          "output_type": "stream",
          "name": "stdout",
          "text": [
            "Original message: message\n",
            "Encrypted message: msaeesg\n",
            "Decrypted message: message\n"
          ]
        }
      ]
    },
    {
      "cell_type": "markdown",
      "source": [
        "student_score program"
      ],
      "metadata": {
        "id": "FGwA_v5xVq8f"
      }
    },
    {
      "cell_type": "markdown",
      "source": [
        "write a function that takes 2 numpy arrays values and counts as inputs(corresponding to their unique values in a dataset and their corresponding frequencies) and returns the mean,median and mode of the dataset in the tuple. if the mode is unique your function should output the frst mode that occurs in the arraydef measure_central(values: list, counts: list):"
      ],
      "metadata": {
        "id": "muFLlvMZUFxe"
      }
    },
    {
      "cell_type": "code",
      "source": [
        "exam_scores = [64, 65, 66, 67, 68, 69, 70, 71, 73, 75, 76, 77, 78, 80]\n",
        "number_of_students = [2, 7, 9, 6, 4, 7, 6, 5, 1, 1, 2, 5, 4, 1]\n",
        "\n",
        "\n",
        "def measure_central(values: list, counts: list):\n",
        "\n",
        "## formula to find the mean\n",
        "  mean=sum(np.array(values)*np.array(counts))/sum(np.array(counts))\n",
        "\n",
        "\n",
        "\n",
        "  sorted_values, sorted_counts = zip(*sorted(zip(values, counts)))\n",
        "\n",
        "\n",
        "## formula to find the median\n",
        "  merged_values = []\n",
        "\n",
        "  for value, count in zip(sorted_values, sorted_counts):\n",
        "      merged_values.extend([value] * count)\n",
        "\n",
        "  # The median is the middle value in the merged values list.\n",
        "  if len(merged_values) % 2 == 0:\n",
        "      median = (merged_values[len(merged_values) // 2] +\n",
        "                merged_values[len(merged_values) // 2 - 1]) / 2\n",
        "  else:\n",
        "      median = merged_values[len(merged_values) // 2]\n",
        "\n",
        "  # formula to fnd the mode.\n",
        "  mode_counts = []\n",
        "  for value in sorted_values:\n",
        "    count = sorted_counts[sorted_values.index(value)]\n",
        "    mode_counts.append(count)\n",
        "\n",
        "  mode = sorted_values[mode_counts.index(max(mode_counts))]\n",
        "\n",
        "  return (mean, median, mode)\n",
        "\n",
        "\n",
        "\n",
        "\n",
        "print(measure_central(exam_scores, number_of_students))\n"
      ],
      "metadata": {
        "colab": {
          "base_uri": "https://localhost:8080/"
        },
        "id": "V-CDUgZhUAJJ",
        "outputId": "bca1e1cc-1abb-444b-b316-8df56bd1786c"
      },
      "execution_count": null,
      "outputs": [
        {
          "output_type": "stream",
          "name": "stdout",
          "text": [
            "(69.76666666666667, 69.0, 66)\n"
          ]
        }
      ]
    },
    {
      "cell_type": "code",
      "source": [],
      "metadata": {
        "id": "0nGwQe0Rf73y"
      },
      "execution_count": null,
      "outputs": []
    },
    {
      "cell_type": "markdown",
      "source": [
        "Columns in spreadsheet programs like *Microsoft Excel*, *Google Sheets* and *LibreOffice Calc* are not labeled using numbers the way we're familiar with. They're instead labeled using strings of capital letters. So that means:\n",
        "\n",
        "    Column 1 is A\n",
        "    Column 2 is B\n",
        "    Column 3 is C\n",
        "    Column 4 is D\n",
        "    ...\n",
        "    Column 26 is Z\n",
        "    Column 27 is AA\n",
        "    ...\n",
        "    Column 52 is AZ\n",
        "    Column 53 is BA\n",
        "    ...\n",
        "    Column 702 is ZZ\n",
        "    Column 703 is AAA\n",
        "    ...\n",
        "\n",
        "Implement the function `column_string()` that takes as input the column number as an integer and outputs the corresponding column label as a string in spreadsheet convention. **Here we will use the convention that the first column is 1, not 0 as is typical in Python** The function should work for arbitrarily large numbers, and **run efficiently**. So for the following inputs, the function should output:\n",
        "\n",
        "* `column_string(5)` = `'E'`\n",
        "* `column_string(68)` = `'BP'`\n",
        "* `column_string(2021247)` = `'DJYZG'`\n",
        "* `column_string(45664595738)` = `'EQUITECH'`\n",
        "\n",
        "---\n"
      ],
      "metadata": {
        "id": "w_CbB_D7Wa9z"
      }
    },
    {
      "cell_type": "code",
      "source": [
        "\n",
        "\n",
        "import string\n",
        "\n",
        "def column_string(number):\n",
        "    if number <= 0:\n",
        "        return \"Invalid input: Number must be positive\"\n",
        "\n",
        "    result = \"\"\n",
        "    while number > 0:\n",
        "        remainder = (number - 1) % 26\n",
        "        result = chr(65 + remainder) + result\n",
        "        number = (number - 1) // 26\n",
        "\n",
        "    return result\n",
        "\n",
        "# Test the function\n",
        "number = int(input(\"Enter a positive integer: \"))\n",
        "result = column_string(number)\n",
        "print(f\"The corresponding column letter is: {result}\")\n",
        "\n"
      ],
      "metadata": {
        "colab": {
          "base_uri": "https://localhost:8080/"
        },
        "id": "JQhNomRTf8Ft",
        "outputId": "c82b59c4-7b95-4e0f-c9ee-8495ef9e7ff8"
      },
      "execution_count": 6,
      "outputs": [
        {
          "output_type": "stream",
          "name": "stdout",
          "text": [
            "Enter a positive integer: 52\n",
            "The corresponding column letter is: AZ\n"
          ]
        }
      ]
    },
    {
      "cell_type": "markdown",
      "source": [
        "We can actually go beyond even-then-odd type encryption. Suppose we have the string `'I_love_to_program!'`. Instead of even and odd, we could group the characters into 3:\n",
        "\n",
        "* The first group with indexes 0,3,6,9, ...\n",
        "* The next group with indexes 1,4,7,10,...\n",
        "* And the final group with indexes 2,5,8,11,...\n",
        "\n",
        "So for `'I_love_to_program!'` the groups would be `'Io__oa'` , `'_vtpgm'` , `'leorr!'`, yielding the encrypted message `'Io__oa_vtpgmleorr!'`.\n",
        "\n",
        "And we're not limited to steps of 2 in the case of even/odd, or steps of 3 like in the example above. We can have any step size $n \\geq 2$ to define our groups of indices.\n",
        "\n",
        "Implement the function `n_step_encrypt(phrase, n)` below that does this type of encryption for any arbitrary step-size $n \\geq 2$:"
      ],
      "metadata": {
        "id": "lYvazj7Zl_Mu"
      }
    },
    {
      "cell_type": "code",
      "source": [
        "# queston 2\n",
        "\n",
        "def n_step_encrypt(phrase: str, n: int):\n",
        "    groups = [\"\"] * n\n",
        "\n",
        "    for i, char in enumerate(phrase):\n",
        "        group_index = i % n\n",
        "        groups[group_index] += char\n",
        "\n",
        "    encrypted_string = \"\".join(groups)\n",
        "    return encrypted_string\n",
        "\n",
        "encrypted_message = n_step_encrypt('I_love_to_program!', 3)\n",
        "print(encrypted_message)\n"
      ],
      "metadata": {
        "colab": {
          "base_uri": "https://localhost:8080/"
        },
        "id": "XhDVya6uWo1O",
        "outputId": "3fa08ecc-48af-4af3-f748-9a22b4be6f7b"
      },
      "execution_count": null,
      "outputs": [
        {
          "output_type": "stream",
          "name": "stdout",
          "text": [
            "Io__oa_vtpgmleorr!\n"
          ]
        }
      ]
    },
    {
      "cell_type": "markdown",
      "source": [
        "Now implement the `n_step_decrypt` function that does the corresponding decryption for any arbitrary step-size $n \\geq 2$. For example, for $n$ = 3, the function should take `'Io__oa_vtpgmleorr!'` and return `'I_love_to_program!'`:"
      ],
      "metadata": {
        "id": "6wLtrjn7mqzt"
      }
    },
    {
      "cell_type": "code",
      "source": [
        "def n_step_decrypt(encrypted_phrase: str, n: int):\n",
        "    decrypted_groups = [\"\"] * n\n",
        "    group_lengths = [len(encrypted_phrase) // n] * n\n",
        "\n",
        "    remainder = len(encrypted_phrase) % n\n",
        "    for i in range(remainder):\n",
        "        group_lengths[i] += 1\n",
        "\n",
        "    start_index = 0\n",
        "    for i in range(n):\n",
        "        decrypted_groups[i] = encrypted_phrase[start_index:start_index + group_lengths[i]]\n",
        "        start_index += group_lengths[i]\n",
        "\n",
        "    decrypted_string = \"\"\n",
        "    for i in range(max(group_lengths)):\n",
        "        for j in range(n):\n",
        "            if i < len(decrypted_groups[j]):\n",
        "                decrypted_string += decrypted_groups[j][i]\n",
        "\n",
        "    return decrypted_string\n",
        "\n",
        "encrypted_message = \"Io__oa_vtpgmleorr!\"\n",
        "decrypted_message = n_step_decrypt(encrypted_message, 3)\n",
        "print(decrypted_message)\n"
      ],
      "metadata": {
        "colab": {
          "base_uri": "https://localhost:8080/"
        },
        "id": "0CDkrZB2HO-k",
        "outputId": "8f07b4f9-93d6-4305-e71d-a2b8beec76b9"
      },
      "execution_count": null,
      "outputs": [
        {
          "output_type": "stream",
          "name": "stdout",
          "text": [
            "I_love_to_program!\n"
          ]
        }
      ]
    }
  ]
}