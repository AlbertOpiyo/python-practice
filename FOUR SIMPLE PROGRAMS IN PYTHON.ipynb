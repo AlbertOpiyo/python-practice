{
 "cells": [
  {
   "cell_type": "markdown",
   "id": "50409772",
   "metadata": {},
   "source": [
    "# FOUR SIMPLE PROGRAMS"
   ]
  },
  {
   "cell_type": "markdown",
   "id": "585c85c4",
   "metadata": {},
   "source": [
    "## The Caesar Cipher: encrypting a message\n",
    "\n",
    "\n",
    "This cipher was (probably) invented and used by Gaius Julius Caesar and his troops during the Gallic Wars. The idea is rather simple – every letter of the message is replaced by its nearest consequent (A becomes B, B becomes C, and so on). The only exception is Z, which becomes A."
   ]
  },
  {
   "cell_type": "code",
   "execution_count": 1,
   "id": "e18e795d",
   "metadata": {},
   "outputs": [
    {
     "name": "stdout",
     "output_type": "stream",
     "text": [
      "Enter your message: my name is albert opiyo\n",
      "NZOBNFJTBMCFSUPQJZP\n"
     ]
    }
   ],
   "source": [
    "text = input(\"Enter your message: \")\n",
    "cipher = ''\n",
    "for char in text:\n",
    "    if not char.isalpha():\n",
    "        continue\n",
    "    char = char.upper()\n",
    "    code = ord(char) + 1\n",
    "    if code > ord('Z'):\n",
    "        code = ord('A')\n",
    "    cipher += chr(code)\n",
    "\n",
    "print(cipher)"
   ]
  },
  {
   "cell_type": "markdown",
   "id": "176d9b6a",
   "metadata": {},
   "source": [
    "You are already familiar with the Caesar cipher, and this is why we want you to improve the code we showed you recently.\n",
    "\n",
    "The original Caesar cipher shifts each character by one: a becomes b, z becomes a, and so on. Let's make it a bit harder, and allow the shifted value to come from the range 1..25 inclusive.\n",
    "\n",
    "Moreover, let the code preserve the letters' case (lower-case letters will remain lower-case) and all non-alphabetical characters should remain untouched.\n",
    "\n",
    "Your task is to write a program which:\n",
    "\n",
    "asks the user for one line of text to encrypt;\n",
    "asks the user for a shift value (an integer number from the range 1..25 - note: you should force the user to enter a valid shift value (don't give up and don't let bad data fool you!)\n",
    "prints out the encoded text."
   ]
  },
  {
   "cell_type": "code",
   "execution_count": 7,
   "id": "848bdd3c",
   "metadata": {},
   "outputs": [
    {
     "name": "stdout",
     "output_type": "stream",
     "text": [
      "Enter message: The die is cast\n",
      "Enter the cipher shift value (1..25): 24\n",
      "Rfc bgc gq ayqr\n"
     ]
    }
   ],
   "source": [
    "# Input the text you want to encrypt.\n",
    "text = input(\"Enter message: \")\n",
    "\n",
    "# Enter a valid shift value (repeat until it succeeds).\n",
    "shift = 0\n",
    "\n",
    "while shift == 0:\n",
    "    try:    \n",
    "        shift = int(input(\"Enter the cipher shift value (1..25): \"))\n",
    "        if shift not in range(1,26):\n",
    "        \traise ValueError\n",
    "    except ValueError:\n",
    "        shift = 0\n",
    "    if shift == 0:\n",
    "        print(\"Incorrect shift value!\")\n",
    "\n",
    "cipher = ''\n",
    "\n",
    "for char in text:\n",
    "    # Is it a letter?\n",
    "    if char.isalpha():\n",
    "        # Shift its code.\n",
    "        code = ord(char) + shift\n",
    "        # Find the code of the first letter (upper- or lower-case)\n",
    "        if char.isupper():\n",
    "            first = ord('A')\n",
    "        else:\n",
    "            first = ord('a')\n",
    "        # Make correction.\n",
    "        code -= first\n",
    "        code %= 26\n",
    "        # Append the encoded character to the message.\n",
    "        cipher += chr(first + code)\n",
    "    else:\n",
    "        # Append the original character to the message.\n",
    "        cipher += char\n",
    "\n",
    "print(cipher)\n",
    "    "
   ]
  },
  {
   "cell_type": "markdown",
   "id": "aaa3d34a",
   "metadata": {},
   "source": [
    "line 02: ask the user to enter the open (unencrypted), one-line message;\n",
    "line 03: prepare a string for an encrypted message (empty for now)\n",
    "line 04: start the iteration through the message;\n",
    "line 05: if the current character is not alphabetic...\n",
    "line 06: ...ignore it;\n",
    "line 07: convert the letter to upper-case (it's preferable to do it blindly, rather than check whether it's needed or not)\n",
    "line 08: get the code of the letter and increment it by one;\n",
    "line 09: if the resulting code has \"left\" the Latin alphabet (if it's greater than the Z code)...\n",
    "line 10: ...change it to the A code;\n",
    "line 11: append the received character to the end of the encrypted message;\n",
    "line 13: print the cipher."
   ]
  },
  {
   "cell_type": "code",
   "execution_count": null,
   "id": "7f609365",
   "metadata": {},
   "outputs": [],
   "source": []
  },
  {
   "cell_type": "markdown",
   "id": "32d4bb1a",
   "metadata": {},
   "source": [
    "## The Caesar Cipher: decrypting a message"
   ]
  },
  {
   "cell_type": "code",
   "execution_count": 2,
   "id": "9eb2fab1",
   "metadata": {},
   "outputs": [
    {
     "name": "stdout",
     "output_type": "stream",
     "text": [
      "Enter your cryptogram: NZOBNFJTBMCFSUPQJZP\n",
      "MYNAMEISALBERTOPIYO\n"
     ]
    }
   ],
   "source": [
    "cipher = input('Enter your cryptogram: ')\n",
    "text = ''\n",
    "for char in cipher:\n",
    "    if not char.isalpha():\n",
    "        continue\n",
    "    char = char.upper()\n",
    "    code = ord(char) - 1\n",
    "    if code < ord('A'):\n",
    "        code = ord('Z')\n",
    "    text += chr(code)\n",
    "\n",
    "print(text)"
   ]
  },
  {
   "cell_type": "code",
   "execution_count": null,
   "id": "e9f9f168",
   "metadata": {},
   "outputs": [],
   "source": []
  },
  {
   "cell_type": "markdown",
   "id": "d24c4bde",
   "metadata": {},
   "source": [
    "## The Numbers Processor"
   ]
  },
  {
   "cell_type": "code",
   "execution_count": 3,
   "id": "1d3067d8",
   "metadata": {},
   "outputs": [
    {
     "name": "stdout",
     "output_type": "stream",
     "text": [
      "Enter a line of numbers - separate them with spaces: 24\n",
      "The total is: 24.0\n"
     ]
    }
   ],
   "source": [
    "line = input(\"Enter a line of numbers - separate them with spaces: \")\n",
    "strings = line.split()\n",
    "total = 0\n",
    "try:\n",
    "    for substr in strings:\n",
    "        total += float(substr)\n",
    "    print(\"The total is:\", total)\n",
    "except:\n",
    "    print(substr, \"is not a number.\")\n",
    "    "
   ]
  },
  {
   "cell_type": "code",
   "execution_count": null,
   "id": "f097dd55",
   "metadata": {},
   "outputs": [],
   "source": []
  },
  {
   "cell_type": "markdown",
   "id": "756029db",
   "metadata": {},
   "source": [
    "## The IBAN Validator\n",
    "\n",
    "An IBAN-compliant account number consists of:\n",
    "\n",
    "a two-letter country code taken from the ISO 3166-1 standard (e.g., FR for France, GB for Great Britain, DE for Germany, and so on)\n",
    "two check digits used to perform the validity checks – fast and simple, but not fully reliable, tests, showing whether a number is invalid (distorted by a typo) or seems to be good;\n",
    "the actual account number (up to 30 alphanumeric characters – the length of that part depends on the country)\n",
    "The standard says that validation requires the following steps (according to Wikipedia):\n",
    "\n",
    "(step 1) Check that the total IBAN length is correct as per the country (this program won't do that, but you can modify the code to meet this requirement if you wish; note: you have to teach the code all the lengths used in Europe)\n",
    "(step 2) Move the four initial characters to the end of the string (i.e., the country code and the check digits)\n",
    "(step 3) Replace each letter in the string with two digits, thereby expanding the string, where A = 10, B = 11 ... Z = 35;\n",
    "(step 4) Interpret the string as a decimal integer and compute the remainder of that number by modulo-dividing it by 97; If the remainder is 1, the check digit test is passed and the IBAN might be valid."
   ]
  },
  {
   "cell_type": "code",
   "execution_count": 5,
   "id": "2939fc02",
   "metadata": {},
   "outputs": [
    {
     "name": "stdout",
     "output_type": "stream",
     "text": [
      "Enter IBAN, please: GB72 HBZU 7006 7212 1253 00\n",
      "IBAN entered is valid.\n"
     ]
    }
   ],
   "source": [
    "\n",
    "iban = input(\"Enter IBAN, please: \")\n",
    "iban = iban.replace(' ','')\n",
    "\n",
    "if not iban.isalnum():\n",
    "    print(\"You have entered invalid characters.\")\n",
    "elif len(iban) < 15:\n",
    "    print(\"IBAN entered is too short.\")\n",
    "elif len(iban) > 31:\n",
    "    print(\"IBAN entered is too long.\")\n",
    "else:\n",
    "    iban = (iban[4:] + iban[0:4]).upper()\n",
    "    iban2 = ''\n",
    "    for ch in iban:\n",
    "        if ch.isdigit():\n",
    "            iban2 += ch\n",
    "        else:\n",
    "            iban2 += str(10 + ord(ch) - ord('A'))\n",
    "    iban = int(iban2)\n",
    "    if iban % 97 == 1:\n",
    "        print(\"IBAN entered is valid.\")\n",
    "    else:\n",
    "        print(\"IBAN entered is invalid.\")\n",
    "    "
   ]
  },
  {
   "cell_type": "markdown",
   "id": "57621f80",
   "metadata": {},
   "source": [
    "ine 03: ask the user to enter the IBAN (the number can contain spaces, as they significantly improve number readability...\n",
    "line 04: ...but remove them immediately)\n",
    "line 05: the entered IBAN must consist of digits and letters only – if it doesn't...\n",
    "line 06: ...output the message;\n",
    "line 07: the IBAN mustn't be shorter than 15 characters (this is the shortest variant, used in Norway)\n",
    "line 08: if it is shorter, the user is informed;\n",
    "line 09: moreover, the IBAN cannot be longer than 31 characters (this is the longest variant, used in Malta)\n",
    "line 10: if it is longer, make an announcement;\n",
    "line 11: start the actual processing;\n",
    "line 12: move the four initial characters to the number's end, and convert all letters to upper case (step 02 of the algorithm)\n",
    "line 13: this is the variable used to complete the number, created by replacing the letters with digits (according to the algorithm's step 03)\n",
    "line 14: iterate through the IBAN;\n",
    "line 15: if the character is a digit...\n",
    "line 16: just copy it;\n",
    "line 17: otherwise...\n",
    "line 18: ...convert it into two digits (note the way it's done here)\n",
    "line 19: the converted form of the IBAN is ready – make an integer out of it;\n",
    "line 20: is the remainder of the division of iban2 by 97 equal to 1?\n",
    "line 21: If yes, then success;\n",
    "line 22: Otherwise...\n",
    "line 23: ...the number is invalid."
   ]
  },
  {
   "cell_type": "markdown",
   "id": "f5e2a7e8",
   "metadata": {},
   "source": [
    "## Palindromes\n",
    "\n",
    "It's a word which look the same when read forward and backward. For example, \"kayak\" is a palindrome, while \"loyal\" is not.\n",
    "\n",
    "our task is to write a program which:\n",
    "\n",
    "asks the user for some text;\n",
    "checks whether the entered text is a palindrome, and prints the result.\n",
    "Note:\n",
    "\n",
    "assume that an empty string isn't a palindrome;\n",
    "treat upper- and lower-case letters as equal;\n",
    "spaces are not taken into account during the check – treat them as non-existent;\n",
    "there are more than a few correct solutions – try to find more than one."
   ]
  },
  {
   "cell_type": "code",
   "execution_count": 8,
   "id": "85d43392",
   "metadata": {},
   "outputs": [
    {
     "name": "stdout",
     "output_type": "stream",
     "text": [
      "Enter text: Ten animals I slam in a net\n",
      "It's a palindrome\n"
     ]
    }
   ],
   "source": [
    "text = input(\"Enter text: \")\n",
    "\n",
    "# Remove all spaces...\n",
    "text = text.replace(' ','')\n",
    "\n",
    "# ... and check if the word is equal to reversed itself\n",
    "if len(text) > 1 and text.upper() == text[::-1].upper():\n",
    "\tprint(\"It's a palindrome\")\n",
    "else:\n",
    "\tprint(\"It's not a palindrome\")\n",
    "\t"
   ]
  },
  {
   "cell_type": "code",
   "execution_count": 1,
   "id": "9418eb5c",
   "metadata": {},
   "outputs": [
    {
     "name": "stdout",
     "output_type": "stream",
     "text": [
      "Please enter some text: Ten animals I slam in a net\n",
      "The input is a palindrome!\n"
     ]
    }
   ],
   "source": [
    "user_input = input(\"Please enter some text: \")\n",
    "\n",
    "# Remove all spaces from user input\n",
    "user_input = user_input.replace(\" \", \"\")\n",
    "\n",
    "# Convert user input to lowercase\n",
    "user_input = user_input.lower()\n",
    "\n",
    "# Check if the input is a palindrome\n",
    "if user_input == user_input[::-1]:\n",
    "    print(\"The input is a palindrome!\")\n",
    "else:\n",
    "    print(\"The input is not a palindrome.\")\n"
   ]
  },
  {
   "cell_type": "code",
   "execution_count": null,
   "id": "b4505ee3",
   "metadata": {},
   "outputs": [],
   "source": []
  },
  {
   "cell_type": "markdown",
   "id": "ae1aa564",
   "metadata": {},
   "source": [
    "## Anagrams\n",
    "An anagram is a new word formed by rearranging the letters of a word, using all the original letters exactly once. For example, the phrases \"rail safety\" and \"fairy tales\" are anagrams, while \"I am\" and \"You are\" are not.\n",
    "\n",
    "Your task is to write a program which:\n",
    "\n",
    "asks the user for two separate texts;\n",
    "checks whether, the entered texts are anagrams and prints the result.\n",
    "Note:\n",
    "\n",
    "assume that two empty strings are not anagrams;\n",
    "treat upper- and lower-case letters as equal;\n",
    "spaces are not taken into account during the check – treat them as non-existent"
   ]
  },
  {
   "cell_type": "code",
   "execution_count": 10,
   "id": "7ee7cb4d",
   "metadata": {},
   "outputs": [
    {
     "name": "stdout",
     "output_type": "stream",
     "text": [
      "Enter the second string: albert\n",
      "Enter the second string: albert\n",
      "Anagrams\n"
     ]
    }
   ],
   "source": [
    "str_1 = input(\"Enter the second string: \")\n",
    "str_2 = input(\"Enter the second string: \")\n",
    "\n",
    "strx_1 = ''.join(sorted(list(str_1.upper().replace(' ',''))))\n",
    "strx_2 = ''.join(sorted(list(str_2.upper().replace(' ',''))))\n",
    "if len(strx_1) > 0 and strx_1 == strx_2:\n",
    "\tprint(\"Anagrams\")\n",
    "else:\n",
    "\tprint(\"Not anagrams\")"
   ]
  },
  {
   "cell_type": "code",
   "execution_count": 2,
   "id": "be7df73f",
   "metadata": {},
   "outputs": [
    {
     "name": "stdout",
     "output_type": "stream",
     "text": [
      "Enter the first text: albert\n",
      "Enter the second text: mark\n",
      "The texts are not anagrams.\n"
     ]
    }
   ],
   "source": [
    "# Ask the user for two separate texts\n",
    "text1 = input(\"Enter the first text: \")\n",
    "text2 = input(\"Enter the second text: \")\n",
    "\n",
    "# Remove spaces and convert to lowercase\n",
    "text1 = text1.replace(\" \", \"\").lower()\n",
    "text2 = text2.replace(\" \", \"\").lower()\n",
    "\n",
    "# Check if the two texts have the same letters\n",
    "if sorted(text1) == sorted(text2):\n",
    "    print(\"The texts are anagrams!\")\n",
    "else:\n",
    "    print(\"The texts are not anagrams.\")\n"
   ]
  },
  {
   "cell_type": "markdown",
   "id": "6ae744a0",
   "metadata": {},
   "source": [
    "## The Digit of Life\n",
    "Some say that the Digit of Life is a digit evaluated using somebody's birthday. It's simple – you just need to sum all the digits of the date. If the result contains more than one digit, you have to repeat the addition until you get exactly one digit. For example:\n",
    "\n",
    "1 January 2017 = 2017 01 01\n",
    "2 + 0 + 1 + 7 + 0 + 1 + 0 + 1 = 12\n",
    "1 + 2 = 3\n",
    "3 is the digit we searched for and found.\n",
    "\n",
    "Your task is to write a program which:\n",
    "\n",
    "asks the user her/his birthday (in the format YYYYMMDD, or YYYYDDMM, or MMDDYYYY – actually, the order of the digits doesn't matter)\n",
    "outputs the Digit of Life for the date."
   ]
  },
  {
   "cell_type": "code",
   "execution_count": 12,
   "id": "51dc7b73",
   "metadata": {},
   "outputs": [
    {
     "name": "stdout",
     "output_type": "stream",
     "text": [
      "Enter your birthday date (in the following format: YYYYMMDD or YYYYDDMM, 8 digits): 19960611\n",
      "19960611\n",
      "33\n",
      "Your Digit of Life is: 6\n"
     ]
    }
   ],
   "source": [
    "date = input(\"Enter your birthday date (in the following format: YYYYMMDD or YYYYDDMM, 8 digits): \")\n",
    "if len(date) != 8 or not date.isdigit():\n",
    "    print(\"Invalid date format.\")\n",
    "else:\n",
    "    while len(date) > 1:\n",
    "        the_sum = 0\n",
    "        for dig in date:\n",
    "            the_sum += int(dig)\n",
    "        print(date)\n",
    "        date = str(the_sum)\n",
    "    print(\"Your Digit of Life is: \" + date)"
   ]
  },
  {
   "cell_type": "code",
   "execution_count": 13,
   "id": "273ab4b7",
   "metadata": {},
   "outputs": [
    {
     "name": "stdout",
     "output_type": "stream",
     "text": [
      "Enter the word you wish to find: donor\n",
      "Enter the string you wish to search through: Nabucodonosor\n",
      "Yes\n"
     ]
    }
   ],
   "source": [
    "word = input(\"Enter the word you wish to find: \").upper()\n",
    "strn = input(\"Enter the string you wish to search through: \").upper()\n",
    "\n",
    "found = True\n",
    "start = 0\n",
    "\n",
    "for ch in word:\n",
    "\tpos = strn.find(ch, start) \n",
    "\tif pos < 0:\n",
    "\t\tfound = False\n",
    "\t\tbreak\n",
    "\tstart = pos + 1\n",
    "if found:\n",
    "\tprint(\"Yes\")\n",
    "else:\n",
    "\tprint(\"No\")\n",
    "\t   "
   ]
  },
  {
   "cell_type": "code",
   "execution_count": 14,
   "id": "160a8829",
   "metadata": {},
   "outputs": [
    {
     "name": "stdout",
     "output_type": "stream",
     "text": [
      "Enter the first number: 6\n",
      "Enter the second number: 0\n",
      "This operation cannot be done.\n",
      "THE END.\n"
     ]
    }
   ],
   "source": [
    "first_number = int(input(\"Enter the first number: \"))\n",
    "second_number = int(input(\"Enter the second number: \"))\n",
    "\n",
    "if second_number != 0:\n",
    "    print(first_number / second_number)\n",
    "else:\n",
    "    print(\"This operation cannot be done.\")\n",
    "\n",
    "print(\"THE END.\")"
   ]
  },
  {
   "cell_type": "code",
   "execution_count": 15,
   "id": "7db95c0d",
   "metadata": {},
   "outputs": [
    {
     "name": "stdout",
     "output_type": "stream",
     "text": [
      "Enter the first number: 9\n",
      "Enter the second number: 0\n",
      "This operation cannot be done.\n",
      "THE END.\n"
     ]
    }
   ],
   "source": [
    "first_number = int(input(\"Enter the first number: \"))\n",
    "second_number = int(input(\"Enter the second number: \"))\n",
    "\n",
    "try:\n",
    "    print(first_number / second_number)\n",
    "except:\n",
    "    print(\"This operation cannot be done.\")\n",
    "\n",
    "print(\"THE END.\")"
   ]
  },
  {
   "cell_type": "code",
   "execution_count": 16,
   "id": "9e6c3532",
   "metadata": {},
   "outputs": [
    {
     "ename": "SyntaxError",
     "evalue": "invalid non-printable character U+00A0 (4208476622.py, line 2)",
     "output_type": "error",
     "traceback": [
      "\u001b[1;36m  File \u001b[1;32m\"C:\\Users\\Dell E5470\\AppData\\Local\\Temp\\ipykernel_12480\\4208476622.py\"\u001b[1;36m, line \u001b[1;32m2\u001b[0m\n\u001b[1;33m    print(\"5\"/0)\u001b[0m\n\u001b[1;37m    ^\u001b[0m\n\u001b[1;31mSyntaxError\u001b[0m\u001b[1;31m:\u001b[0m invalid non-printable character U+00A0\n"
     ]
    }
   ],
   "source": [
    "try:\n",
    "    print(\"5\"/0)\n",
    "except ArithmeticError:\n",
    "    print(\"arith\")\n",
    "except ZeroDivisionError:\n",
    "    print(\"zero\")\n",
    "except:\n",
    "    print(\"some\")\n",
    "\n"
   ]
  },
  {
   "cell_type": "code",
   "execution_count": 17,
   "id": "fd96083d",
   "metadata": {},
   "outputs": [
    {
     "name": "stdout",
     "output_type": "stream",
     "text": [
      "1\n"
     ]
    }
   ],
   "source": [
    "x = '\\''\n",
    "print(len(x))\n",
    "\n"
   ]
  },
  {
   "cell_type": "code",
   "execution_count": 18,
   "id": "4a8fb469",
   "metadata": {},
   "outputs": [
    {
     "name": "stdout",
     "output_type": "stream",
     "text": [
      "2\n"
     ]
    }
   ],
   "source": [
    "print(ord('c') - ord('a'))"
   ]
  },
  {
   "cell_type": "code",
   "execution_count": 22,
   "id": "b115d48e",
   "metadata": {},
   "outputs": [
    {
     "ename": "ValueError",
     "evalue": "could not convert string to float: '1, 3'",
     "output_type": "error",
     "traceback": [
      "\u001b[1;31m---------------------------------------------------------------------------\u001b[0m",
      "\u001b[1;31mValueError\u001b[0m                                Traceback (most recent call last)",
      "\u001b[1;32m~\\AppData\\Local\\Temp\\ipykernel_12480\\2240009824.py\u001b[0m in \u001b[0;36m<module>\u001b[1;34m\u001b[0m\n\u001b[1;32m----> 1\u001b[1;33m \u001b[0mprint\u001b[0m\u001b[1;33m(\u001b[0m\u001b[0mfloat\u001b[0m\u001b[1;33m(\u001b[0m\u001b[1;34m\"1, 3\"\u001b[0m\u001b[1;33m)\u001b[0m\u001b[1;33m)\u001b[0m\u001b[1;33m\u001b[0m\u001b[1;33m\u001b[0m\u001b[0m\n\u001b[0m\u001b[0;32m      2\u001b[0m \u001b[1;33m\u001b[0m\u001b[0m\n\u001b[0;32m      3\u001b[0m \u001b[1;33m\u001b[0m\u001b[0m\n\u001b[0;32m      4\u001b[0m \u001b[1;33m\u001b[0m\u001b[0m\n",
      "\u001b[1;31mValueError\u001b[0m: could not convert string to float: '1, 3'"
     ]
    }
   ],
   "source": [
    "print(float(\"1, 3\"))\n",
    "\n",
    "\n",
    "\n"
   ]
  },
  {
   "cell_type": "code",
   "execution_count": 21,
   "id": "d4821d96",
   "metadata": {},
   "outputs": [
    {
     "name": "stdout",
     "output_type": "stream",
     "text": [
      "False\n"
     ]
    }
   ],
   "source": [
    "print('Mike' > \"Mikey\")"
   ]
  },
  {
   "cell_type": "code",
   "execution_count": null,
   "id": "2b33b4f6",
   "metadata": {},
   "outputs": [],
   "source": []
  },
  {
   "cell_type": "code",
   "execution_count": null,
   "id": "b6b7eb50",
   "metadata": {},
   "outputs": [],
   "source": []
  },
  {
   "cell_type": "code",
   "execution_count": null,
   "id": "eaace7f7",
   "metadata": {},
   "outputs": [],
   "source": []
  },
  {
   "cell_type": "code",
   "execution_count": null,
   "id": "377b8dda",
   "metadata": {},
   "outputs": [],
   "source": []
  },
  {
   "cell_type": "code",
   "execution_count": null,
   "id": "018d3a47",
   "metadata": {},
   "outputs": [],
   "source": []
  },
  {
   "cell_type": "code",
   "execution_count": null,
   "id": "2e6c468b",
   "metadata": {},
   "outputs": [],
   "source": []
  },
  {
   "cell_type": "code",
   "execution_count": null,
   "id": "c2334d1b",
   "metadata": {},
   "outputs": [],
   "source": []
  },
  {
   "cell_type": "code",
   "execution_count": null,
   "id": "b07a0a92",
   "metadata": {},
   "outputs": [],
   "source": []
  },
  {
   "cell_type": "code",
   "execution_count": null,
   "id": "6d1e4690",
   "metadata": {},
   "outputs": [],
   "source": []
  },
  {
   "cell_type": "code",
   "execution_count": null,
   "id": "2f2b4715",
   "metadata": {},
   "outputs": [],
   "source": []
  },
  {
   "cell_type": "code",
   "execution_count": null,
   "id": "d0a76148",
   "metadata": {},
   "outputs": [],
   "source": []
  },
  {
   "cell_type": "code",
   "execution_count": null,
   "id": "1a5e232b",
   "metadata": {},
   "outputs": [],
   "source": []
  },
  {
   "cell_type": "code",
   "execution_count": null,
   "id": "ac9397d4",
   "metadata": {},
   "outputs": [],
   "source": []
  },
  {
   "cell_type": "code",
   "execution_count": null,
   "id": "d09dfb39",
   "metadata": {},
   "outputs": [],
   "source": []
  }
 ],
 "metadata": {
  "kernelspec": {
   "display_name": "Python 3 (ipykernel)",
   "language": "python",
   "name": "python3"
  },
  "language_info": {
   "codemirror_mode": {
    "name": "ipython",
    "version": 3
   },
   "file_extension": ".py",
   "mimetype": "text/x-python",
   "name": "python",
   "nbconvert_exporter": "python",
   "pygments_lexer": "ipython3",
   "version": "3.9.13"
  }
 },
 "nbformat": 4,
 "nbformat_minor": 5
}
